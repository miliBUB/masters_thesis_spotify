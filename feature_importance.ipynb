{
 "cells": [
  {
   "cell_type": "code",
   "execution_count": 5,
   "id": "9f5c9f7c-9dd6-44df-9685-3e41e0a6931e",
   "metadata": {},
   "outputs": [
    {
     "name": "stdout",
     "output_type": "stream",
     "text": [
      "Requirement already satisfied: scikit-learn in /opt/conda/lib/python3.10/site-packages (1.5.0)\n",
      "Requirement already satisfied: numpy>=1.19.5 in /opt/conda/lib/python3.10/site-packages (from scikit-learn) (1.26.4)\n",
      "Requirement already satisfied: scipy>=1.6.0 in /opt/conda/lib/python3.10/site-packages (from scikit-learn) (1.13.1)\n",
      "Requirement already satisfied: joblib>=1.2.0 in /opt/conda/lib/python3.10/site-packages (from scikit-learn) (1.4.2)\n",
      "Requirement already satisfied: threadpoolctl>=3.1.0 in /opt/conda/lib/python3.10/site-packages (from scikit-learn) (3.5.0)\n",
      "Note: you may need to restart the kernel to use updated packages.\n",
      "Requirement already satisfied: pandas in /opt/conda/lib/python3.10/site-packages (2.2.2)\n",
      "Requirement already satisfied: numpy>=1.22.4 in /opt/conda/lib/python3.10/site-packages (from pandas) (1.26.4)\n",
      "Requirement already satisfied: python-dateutil>=2.8.2 in /opt/conda/lib/python3.10/site-packages (from pandas) (2.9.0)\n",
      "Requirement already satisfied: pytz>=2020.1 in /opt/conda/lib/python3.10/site-packages (from pandas) (2024.1)\n",
      "Requirement already satisfied: tzdata>=2022.7 in /opt/conda/lib/python3.10/site-packages (from pandas) (2024.1)\n",
      "Requirement already satisfied: six>=1.5 in /opt/conda/lib/python3.10/site-packages (from python-dateutil>=2.8.2->pandas) (1.16.0)\n",
      "Note: you may need to restart the kernel to use updated packages.\n",
      "Requirement already satisfied: matplotlib in /opt/conda/lib/python3.10/site-packages (3.8.4)\n",
      "Collecting matplotlib\n",
      "  Downloading matplotlib-3.9.0-cp310-cp310-manylinux_2_17_x86_64.manylinux2014_x86_64.whl.metadata (11 kB)\n",
      "Requirement already satisfied: contourpy>=1.0.1 in /opt/conda/lib/python3.10/site-packages (from matplotlib) (1.2.1)\n",
      "Requirement already satisfied: cycler>=0.10 in /opt/conda/lib/python3.10/site-packages (from matplotlib) (0.12.1)\n",
      "Requirement already satisfied: fonttools>=4.22.0 in /opt/conda/lib/python3.10/site-packages (from matplotlib) (4.52.1)\n",
      "Requirement already satisfied: kiwisolver>=1.3.1 in /opt/conda/lib/python3.10/site-packages (from matplotlib) (1.4.5)\n",
      "Requirement already satisfied: numpy>=1.23 in /opt/conda/lib/python3.10/site-packages (from matplotlib) (1.26.4)\n",
      "Requirement already satisfied: packaging>=20.0 in /opt/conda/lib/python3.10/site-packages (from matplotlib) (24.0)\n",
      "Requirement already satisfied: pillow>=8 in /opt/conda/lib/python3.10/site-packages (from matplotlib) (10.3.0)\n",
      "Requirement already satisfied: pyparsing>=2.3.1 in /opt/conda/lib/python3.10/site-packages (from matplotlib) (3.1.2)\n",
      "Requirement already satisfied: python-dateutil>=2.7 in /opt/conda/lib/python3.10/site-packages (from matplotlib) (2.9.0)\n",
      "Requirement already satisfied: six>=1.5 in /opt/conda/lib/python3.10/site-packages (from python-dateutil>=2.7->matplotlib) (1.16.0)\n",
      "Downloading matplotlib-3.9.0-cp310-cp310-manylinux_2_17_x86_64.manylinux2014_x86_64.whl (8.3 MB)\n",
      "\u001b[2K   \u001b[90m━━━━━━━━━━━━━━━━━━━━━━━━━━━━━━━━━━━━━━━━\u001b[0m \u001b[32m8.3/8.3 MB\u001b[0m \u001b[31m25.4 MB/s\u001b[0m eta \u001b[36m0:00:00\u001b[0m00:01\u001b[0m00:01\u001b[0m\n",
      "\u001b[?25hInstalling collected packages: matplotlib\n",
      "  Attempting uninstall: matplotlib\n",
      "    Found existing installation: matplotlib 3.8.4\n",
      "    Uninstalling matplotlib-3.8.4:\n",
      "      Successfully uninstalled matplotlib-3.8.4\n",
      "Successfully installed matplotlib-3.9.0\n",
      "Note: you may need to restart the kernel to use updated packages.\n",
      "Collecting seaborn\n",
      "  Downloading seaborn-0.13.2-py3-none-any.whl.metadata (5.4 kB)\n",
      "Requirement already satisfied: numpy!=1.24.0,>=1.20 in /opt/conda/lib/python3.10/site-packages (from seaborn) (1.26.4)\n",
      "Requirement already satisfied: pandas>=1.2 in /opt/conda/lib/python3.10/site-packages (from seaborn) (2.2.2)\n",
      "Requirement already satisfied: matplotlib!=3.6.1,>=3.4 in /opt/conda/lib/python3.10/site-packages (from seaborn) (3.9.0)\n",
      "Requirement already satisfied: contourpy>=1.0.1 in /opt/conda/lib/python3.10/site-packages (from matplotlib!=3.6.1,>=3.4->seaborn) (1.2.1)\n",
      "Requirement already satisfied: cycler>=0.10 in /opt/conda/lib/python3.10/site-packages (from matplotlib!=3.6.1,>=3.4->seaborn) (0.12.1)\n",
      "Requirement already satisfied: fonttools>=4.22.0 in /opt/conda/lib/python3.10/site-packages (from matplotlib!=3.6.1,>=3.4->seaborn) (4.52.1)\n",
      "Requirement already satisfied: kiwisolver>=1.3.1 in /opt/conda/lib/python3.10/site-packages (from matplotlib!=3.6.1,>=3.4->seaborn) (1.4.5)\n",
      "Requirement already satisfied: packaging>=20.0 in /opt/conda/lib/python3.10/site-packages (from matplotlib!=3.6.1,>=3.4->seaborn) (24.0)\n",
      "Requirement already satisfied: pillow>=8 in /opt/conda/lib/python3.10/site-packages (from matplotlib!=3.6.1,>=3.4->seaborn) (10.3.0)\n",
      "Requirement already satisfied: pyparsing>=2.3.1 in /opt/conda/lib/python3.10/site-packages (from matplotlib!=3.6.1,>=3.4->seaborn) (3.1.2)\n",
      "Requirement already satisfied: python-dateutil>=2.7 in /opt/conda/lib/python3.10/site-packages (from matplotlib!=3.6.1,>=3.4->seaborn) (2.9.0)\n",
      "Requirement already satisfied: pytz>=2020.1 in /opt/conda/lib/python3.10/site-packages (from pandas>=1.2->seaborn) (2024.1)\n",
      "Requirement already satisfied: tzdata>=2022.7 in /opt/conda/lib/python3.10/site-packages (from pandas>=1.2->seaborn) (2024.1)\n",
      "Requirement already satisfied: six>=1.5 in /opt/conda/lib/python3.10/site-packages (from python-dateutil>=2.7->matplotlib!=3.6.1,>=3.4->seaborn) (1.16.0)\n",
      "Downloading seaborn-0.13.2-py3-none-any.whl (294 kB)\n",
      "\u001b[2K   \u001b[90m━━━━━━━━━━━━━━━━━━━━━━━━━━━━━━━━━━━━━━━━\u001b[0m \u001b[32m294.9/294.9 kB\u001b[0m \u001b[31m5.1 MB/s\u001b[0m eta \u001b[36m0:00:00\u001b[0mta \u001b[36m0:00:01\u001b[0m\n",
      "\u001b[?25hInstalling collected packages: seaborn\n",
      "Successfully installed seaborn-0.13.2\n",
      "Note: you may need to restart the kernel to use updated packages.\n"
     ]
    }
   ],
   "source": [
    "%pip install scikit-learn\n",
    "%pip install pandas\n",
    "%pip install -U matplotlib\n",
    "%pip install seaborn\n"
   ]
  },
  {
   "cell_type": "code",
   "execution_count": 2,
   "id": "f1b7e79c-40dd-41f5-ab43-bc6f60d19c92",
   "metadata": {},
   "outputs": [],
   "source": [
    "import pandas as pd\n",
    "import numpy as np\n",
    "import joblib\n",
    "import os \n",
    "import matplotlib.pyplot as plt"
   ]
  },
  {
   "cell_type": "code",
   "execution_count": 3,
   "id": "661dc90a-9cd8-4754-8a42-6b5d83599742",
   "metadata": {},
   "outputs": [],
   "source": [
    "from sklearn.model_selection import train_test_split"
   ]
  },
  {
   "cell_type": "code",
   "execution_count": 4,
   "id": "73ae2949-f6c6-4e9f-92b4-a9ce66af6c87",
   "metadata": {},
   "outputs": [],
   "source": [
    "from sklearn.preprocessing import StandardScaler, MinMaxScaler"
   ]
  },
  {
   "cell_type": "code",
   "execution_count": 5,
   "id": "cfc22e2e-129f-47bb-8409-d78421a9a488",
   "metadata": {},
   "outputs": [],
   "source": [
    "from sklearn.linear_model import LinearRegression\n",
    "from sklearn.metrics import mean_squared_error, r2_score"
   ]
  },
  {
   "cell_type": "code",
   "execution_count": 6,
   "id": "b8eb0be3-040d-4a51-bc7f-02b18f747edd",
   "metadata": {},
   "outputs": [],
   "source": [
    "# Load the dataset\n",
    "file_path = 'enriched_playlist_v2.csv'\n",
    "data = pd.read_csv(file_path)\n",
    "data = data[data['num_followers'] !=53519]"
   ]
  },
  {
   "cell_type": "code",
   "execution_count": 8,
   "id": "c4d9d107-815c-437c-b1c3-04b9de70e82f",
   "metadata": {},
   "outputs": [
    {
     "name": "stdout",
     "output_type": "stream",
     "text": [
      "    playlist_id  num_followers                track_id         track_name  \\\n",
      "42          224              3  6hfZpvMQ2eu2pFJLE7KVLd  Boğaziçi Rüyaları   \n",
      "43          224              3  1uUyPBaiAtHsTDtY2vvGMS         Yeni Hayat   \n",
      "44          224              3  1fAMA1PWg0nnYLQQYcSSls      Speck Of Gold   \n",
      "45          224              3  1NBRZFIFUyeUO6cVMjBHM1  Miracle Feat:Neve   \n",
      "46          224              3  6cWlmDC8vU2WOMEID6ZL5K     Cry Me A River   \n",
      "\n",
      "    artist_name  danceability  energy  key  loudness  mode  speechiness  \\\n",
      "42   Can Atilla         0.284   0.643    5    -6.376     1       0.0423   \n",
      "43   Can Atilla         0.549   0.694    9    -7.364     0       0.0356   \n",
      "44    Afterlife         0.667   0.656    4    -8.001     0       0.0894   \n",
      "45    Afterlife         0.556   0.483    0    -7.948     0       0.0334   \n",
      "46  Diana Krall         0.299   0.156    4   -13.794     0       0.0321   \n",
      "\n",
      "    acousticness  instrumentalness  liveness  valence    tempo  duration_ms  \n",
      "42         0.166          0.363000     0.110    0.432   72.150       322546  \n",
      "43         0.231          0.017800     0.175    0.498   99.876       297786  \n",
      "44         0.729          0.112000     0.172    0.402  174.013       335350  \n",
      "45         0.496          0.002040     0.102    0.259   75.991       358603  \n",
      "46         0.942          0.000903     0.128    0.242  175.797       303800  \n"
     ]
    }
   ],
   "source": [
    "# Find the unique playlist_ids of the top 1000 playlists with the most followers\n",
    "top_1000_playlist_ids = data.drop_duplicates(subset='playlist_id').nlargest(1000, 'num_followers')['playlist_id']\n",
    "\n",
    "# Create a subset of the main dataset with only the top 1000 playlists\n",
    "subset_data = data[data['playlist_id'].isin(top_1000_playlist_ids)]\n",
    "\n",
    "# Save the subset data to a new CSV file\n",
    "#subset_file_path = 'subset_top_1000_playlists.csv'\n",
    "#subset_data.to_csv(subset_file_path, index=False)\n",
    "\n",
    "# Display the top 5 records as a sample output\n",
    "print(subset_data.head())"
   ]
  },
  {
   "cell_type": "code",
   "execution_count": 9,
   "id": "dea624fd-5e34-4e73-99ef-402095b4071f",
   "metadata": {},
   "outputs": [
    {
     "name": "stdout",
     "output_type": "stream",
     "text": [
      "<class 'pandas.core.frame.DataFrame'>\n",
      "Index: 95493 entries, 42 to 1019148\n",
      "Data columns (total 17 columns):\n",
      " #   Column            Non-Null Count  Dtype  \n",
      "---  ------            --------------  -----  \n",
      " 0   playlist_id       95493 non-null  int64  \n",
      " 1   num_followers     95493 non-null  int64  \n",
      " 2   track_id          95493 non-null  object \n",
      " 3   track_name        95493 non-null  object \n",
      " 4   artist_name       95493 non-null  object \n",
      " 5   danceability      95493 non-null  float64\n",
      " 6   energy            95493 non-null  float64\n",
      " 7   key               95493 non-null  int64  \n",
      " 8   loudness          95493 non-null  float64\n",
      " 9   mode              95493 non-null  int64  \n",
      " 10  speechiness       95493 non-null  float64\n",
      " 11  acousticness      95493 non-null  float64\n",
      " 12  instrumentalness  95493 non-null  float64\n",
      " 13  liveness          95493 non-null  float64\n",
      " 14  valence           95493 non-null  float64\n",
      " 15  tempo             95493 non-null  float64\n",
      " 16  duration_ms       95493 non-null  int64  \n",
      "dtypes: float64(9), int64(5), object(3)\n",
      "memory usage: 13.1+ MB\n"
     ]
    }
   ],
   "source": [
    "subset_data.info()"
   ]
  },
  {
   "cell_type": "code",
   "execution_count": 10,
   "id": "fa41bf45-8bbf-406c-ba1a-10dad796e811",
   "metadata": {},
   "outputs": [
    {
     "name": "stderr",
     "output_type": "stream",
     "text": [
      "/tmp/ipykernel_1753/3286052520.py:12: SettingWithCopyWarning: \n",
      "A value is trying to be set on a copy of a slice from a DataFrame\n",
      "\n",
      "See the caveats in the documentation: https://pandas.pydata.org/pandas-docs/stable/user_guide/indexing.html#returning-a-view-versus-a-copy\n",
      "  X.loc[:, features_to_normalize] = scaler_norm.fit_transform(X[features_to_normalize])\n",
      "/tmp/ipykernel_1753/3286052520.py:16: SettingWithCopyWarning: \n",
      "A value is trying to be set on a copy of a slice from a DataFrame\n",
      "\n",
      "See the caveats in the documentation: https://pandas.pydata.org/pandas-docs/stable/user_guide/indexing.html#returning-a-view-versus-a-copy\n",
      "  X.loc[:, features_to_standardize] = scaler_std.fit_transform(X[features_to_standardize])\n"
     ]
    }
   ],
   "source": [
    "# Separate features for normalization and standardization\n",
    "features_to_normalize = ['danceability', 'energy', 'speechiness', 'acousticness', 'instrumentalness', 'liveness', 'valence']\n",
    "features_to_standardize = ['loudness', 'tempo']\n",
    "\n",
    "# Prepare features and labels\n",
    "X = subset_data[['danceability', 'energy', 'loudness', 'speechiness',\n",
    "          'acousticness', 'instrumentalness', 'liveness', 'valence', 'tempo']]\n",
    "y = subset_data['num_followers']\n",
    "\n",
    "# Apply MinMaxScaler for normalization\n",
    "scaler_norm = MinMaxScaler()\n",
    "X.loc[:, features_to_normalize] = scaler_norm.fit_transform(X[features_to_normalize])\n",
    "\n",
    "# Apply StandardScaler for standardization\n",
    "scaler_std = StandardScaler()\n",
    "X.loc[:, features_to_standardize] = scaler_std.fit_transform(X[features_to_standardize])"
   ]
  },
  {
   "cell_type": "code",
   "execution_count": 11,
   "id": "a10eda42-52fe-47e5-9e55-e7ed8a6a99fe",
   "metadata": {},
   "outputs": [
    {
     "name": "stdout",
     "output_type": "stream",
     "text": [
      "Mean Squared Error: 10489.14463624272\n",
      "R^2 Score: 0.0012672051267512696\n",
      "                  Coefficient\n",
      "danceability        -1.814131\n",
      "energy              -2.785262\n",
      "loudness             0.786518\n",
      "speechiness        -26.889807\n",
      "acousticness         1.596328\n",
      "instrumentalness   -11.002198\n",
      "liveness            -3.437698\n",
      "valence             -3.130909\n",
      "tempo               -0.125942\n"
     ]
    }
   ],
   "source": [
    "# Split the data into training and testing sets\n",
    "X_train, X_test, y_train, y_test = train_test_split(X, y, test_size=0.2, random_state=42)\n",
    "\n",
    "# Create and train the linear regression model\n",
    "model = LinearRegression()\n",
    "model.fit(X_train, y_train)\n",
    "\n",
    "# Make predictions\n",
    "y_pred = model.predict(X_test)\n",
    "\n",
    "# Evaluate the model\n",
    "mse = mean_squared_error(y_test, y_pred)\n",
    "r2 = r2_score(y_test, y_pred)\n",
    "\n",
    "print(f\"Mean Squared Error: {mse}\")\n",
    "print(f\"R^2 Score: {r2}\")\n",
    "\n",
    "# Print model coefficients\n",
    "coefficients = pd.DataFrame(model.coef_, X.columns, columns=['Coefficient'])\n",
    "print(coefficients)"
   ]
  },
  {
   "cell_type": "code",
   "execution_count": 12,
   "id": "00346051-a46c-4e06-a57c-f93a1805bb2a",
   "metadata": {},
   "outputs": [
    {
     "data": {
      "image/png": "[encoded data removed]",
      "text/plain": [
       "<Figure size 1000x800 with 1 Axes>"
      ]
     },
     "metadata": {},
     "output_type": "display_data"
    }
   ],
   "source": [
    "# Plot the coefficients to show feature importance\n",
    "plt.figure(figsize=(10, 8))\n",
    "plt.bar(coefficients.index, coefficients['Coefficient'])\n",
    "plt.title('Feature Importance in Regression Model')\n",
    "plt.xlabel('Feature')\n",
    "plt.ylabel('Coefficient')\n",
    "plt.show()"
   ]
  },
  {
   "cell_type": "code",
   "execution_count": null,
   "id": "e2412155-b4b6-4a53-8dd4-eb94e99fa3cb",
   "metadata": {},
   "outputs": [],
   "source": []
  }
 ],
 "metadata": {
  "kernelspec": {
   "display_name": "Python 3 ",
   "language": "python",
   "name": "python3"
  },
  "language_info": {
   "codemirror_mode": {
    "name": "ipython",
    "version": 3
   },
   "file_extension": ".py",
   "mimetype": "text/x-python",
   "name": "python",
   "nbconvert_exporter": "python",
   "pygments_lexer": "ipython3",
   "version": "3.10.14"
  }
 },
 "nbformat": 4,
 "nbformat_minor": 5
}
