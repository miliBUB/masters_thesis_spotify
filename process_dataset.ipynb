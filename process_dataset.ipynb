{
 "cells": [
  {
   "cell_type": "code",
   "execution_count": 2,
   "metadata": {},
   "outputs": [
    {
     "name": "stdout",
     "output_type": "stream",
     "text": [
      "Collecting ijson\n",
      "  Downloading ijson-3.2.3-cp310-cp310-win_amd64.whl (48 kB)\n",
      "     ---------------------------------------- 48.2/48.2 kB 1.2 MB/s eta 0:00:00\n",
      "Installing collected packages: ijson\n",
      "Successfully installed ijson-3.2.3\n"
     ]
    }
   ],
   "source": [
    "%pip install ijson"
   ]
  },
  {
   "cell_type": "code",
   "execution_count": 8,
   "metadata": {},
   "outputs": [],
   "source": [
    "import ijson\n",
    "import json\n",
    "import os"
   ]
  },
  {
   "cell_type": "code",
   "execution_count": 4,
   "metadata": {},
   "outputs": [],
   "source": [
    "# Step 1: Define Top Jazz Musicians\n",
    "top_jazz_musicians = {\n",
    "    \"Frank Sinatra\",\n",
    "    \"Norah Jones\",\n",
    "    \"Ella Fitzgerald\",\n",
    "    \"Nat King Cole\",\n",
    "    \"Louis Armstrong\",\n",
    "    \n",
    "}"
   ]
  },
  {
   "cell_type": "code",
   "execution_count": 5,
   "metadata": {},
   "outputs": [],
   "source": [
    "# Helper function to process and filter a chunk\n",
    "def process_chunk(chunk):\n",
    "    filtered_playlists = []\n",
    "\n",
    "    for playlist in chunk:\n",
    "        filtered_tracks = []\n",
    "        for track in playlist['tracks']:\n",
    "            if track['artist_name'] in top_jazz_musicians:\n",
    "                filtered_tracks.append(track)\n",
    "        if filtered_tracks:\n",
    "            filtered_playlist = {\n",
    "                \"name\": playlist['name'],\n",
    "                \"collaborative\": playlist['collaborative'],\n",
    "                \"pid\": playlist['pid'],\n",
    "                \"modified_at\": playlist['modified_at'],\n",
    "                \"num_tracks\": len(filtered_tracks),\n",
    "                \"num_albums\": len(set(track['album_uri'] for track in filtered_tracks)),\n",
    "                \"num_followers\": playlist['num_followers'],\n",
    "                \"tracks\": filtered_tracks\n",
    "            }\n",
    "            filtered_playlists.append(filtered_playlist)\n",
    "    return filtered_playlists"
   ]
  },
  {
   "cell_type": "code",
   "execution_count": 6,
   "metadata": {},
   "outputs": [],
   "source": [
    "# Step 2: Iterate through JSON slice files\n",
    "slice_dir = '/json_slices_master_dataset'  # Directory containing the JSON slice files\n",
    "num_slices = 1000  # Number of slices; adjust this as needed\n",
    "\n",
    "slice_files = [f'mpd.slice.{i}-{i+999}.json' for i in range(0, num_slices*1000, 1000)]"
   ]
  },
  {
   "cell_type": "code",
   "execution_count": 9,
   "metadata": {},
   "outputs": [
    {
     "ename": "FileNotFoundError",
     "evalue": "[Errno 2] No such file or directory: '/json_slices_master_dataset\\\\mpd.slice.0-999.json'",
     "output_type": "error",
     "traceback": [
      "\u001b[1;31m---------------------------------------------------------------------------\u001b[0m",
      "\u001b[1;31mFileNotFoundError\u001b[0m                         Traceback (most recent call last)",
      "Cell \u001b[1;32mIn[9], line 10\u001b[0m\n\u001b[0;32m      7\u001b[0m slice_path \u001b[38;5;241m=\u001b[39m os\u001b[38;5;241m.\u001b[39mpath\u001b[38;5;241m.\u001b[39mjoin(slice_dir, slice_file)\n\u001b[0;32m      8\u001b[0m chunk \u001b[38;5;241m=\u001b[39m []\n\u001b[1;32m---> 10\u001b[0m \u001b[38;5;28;01mwith\u001b[39;00m \u001b[38;5;28;43mopen\u001b[39;49m\u001b[43m(\u001b[49m\u001b[43mslice_path\u001b[49m\u001b[43m,\u001b[49m\u001b[43m \u001b[49m\u001b[38;5;124;43m'\u001b[39;49m\u001b[38;5;124;43mr\u001b[39;49m\u001b[38;5;124;43m'\u001b[39;49m\u001b[43m)\u001b[49m \u001b[38;5;28;01mas\u001b[39;00m file:\n\u001b[0;32m     11\u001b[0m     \u001b[38;5;28;01mfor\u001b[39;00m playlist \u001b[38;5;129;01min\u001b[39;00m ijson\u001b[38;5;241m.\u001b[39mitems(file, \u001b[38;5;124m'\u001b[39m\u001b[38;5;124mplaylists.item\u001b[39m\u001b[38;5;124m'\u001b[39m):\n\u001b[0;32m     12\u001b[0m         chunk\u001b[38;5;241m.\u001b[39mappend(playlist)\n",
      "File \u001b[1;32mc:\\Users\\miliBUB\\anaconda3\\lib\\site-packages\\IPython\\core\\interactiveshell.py:284\u001b[0m, in \u001b[0;36m_modified_open\u001b[1;34m(file, *args, **kwargs)\u001b[0m\n\u001b[0;32m    277\u001b[0m \u001b[38;5;28;01mif\u001b[39;00m file \u001b[38;5;129;01min\u001b[39;00m {\u001b[38;5;241m0\u001b[39m, \u001b[38;5;241m1\u001b[39m, \u001b[38;5;241m2\u001b[39m}:\n\u001b[0;32m    278\u001b[0m     \u001b[38;5;28;01mraise\u001b[39;00m \u001b[38;5;167;01mValueError\u001b[39;00m(\n\u001b[0;32m    279\u001b[0m         \u001b[38;5;124mf\u001b[39m\u001b[38;5;124m\"\u001b[39m\u001b[38;5;124mIPython won\u001b[39m\u001b[38;5;124m'\u001b[39m\u001b[38;5;124mt let you open fd=\u001b[39m\u001b[38;5;132;01m{\u001b[39;00mfile\u001b[38;5;132;01m}\u001b[39;00m\u001b[38;5;124m by default \u001b[39m\u001b[38;5;124m\"\u001b[39m\n\u001b[0;32m    280\u001b[0m         \u001b[38;5;124m\"\u001b[39m\u001b[38;5;124mas it is likely to crash IPython. If you know what you are doing, \u001b[39m\u001b[38;5;124m\"\u001b[39m\n\u001b[0;32m    281\u001b[0m         \u001b[38;5;124m\"\u001b[39m\u001b[38;5;124myou can use builtins\u001b[39m\u001b[38;5;124m'\u001b[39m\u001b[38;5;124m open.\u001b[39m\u001b[38;5;124m\"\u001b[39m\n\u001b[0;32m    282\u001b[0m     )\n\u001b[1;32m--> 284\u001b[0m \u001b[38;5;28;01mreturn\u001b[39;00m io_open(file, \u001b[38;5;241m*\u001b[39margs, \u001b[38;5;241m*\u001b[39m\u001b[38;5;241m*\u001b[39mkwargs)\n",
      "\u001b[1;31mFileNotFoundError\u001b[0m: [Errno 2] No such file or directory: '/json_slices_master_dataset\\\\mpd.slice.0-999.json'"
     ]
    }
   ],
   "source": [
    "# Step 2: Process JSON File in Chunks\n",
    "chunk_size = 1000\n",
    "chunk = []\n",
    "chunk_count = 0\n",
    "\n",
    "for slice_file in slice_files:\n",
    "    slice_path = os.path.join(slice_dir, slice_file)\n",
    "    chunk = []\n",
    "\n",
    "    with open(slice_path, 'r') as file:\n",
    "        for playlist in ijson.items(file, 'playlists.item'):\n",
    "            chunk.append(playlist)\n",
    "            if len(chunk) >= chunk_size:\n",
    "                # Process the chunk\n",
    "                filtered_playlists = process_chunk(chunk)\n",
    "                # Save intermediate result\n",
    "                with open(f'filtered_playlists_{chunk_count}.json', 'w') as outfile:\n",
    "                    json.dump({\"playlists\": filtered_playlists}, outfile, indent=4)\n",
    "                chunk = []\n",
    "                chunk_count += 1\n"
   ]
  },
  {
   "cell_type": "code",
   "execution_count": null,
   "metadata": {},
   "outputs": [],
   "source": [
    "# Process any remaining items in the last chunk\n",
    "if chunk:\n",
    "        filtered_playlists = process_chunk(chunk)\n",
    "        with open(f'filtered_playlists_{chunk_count}.json', 'w') as outfile:\n",
    "            json.dump({\"playlists\": filtered_playlists}, outfile, indent=4)\n",
    "        chunk = []\n",
    "        chunk_count += 1"
   ]
  },
  {
   "cell_type": "code",
   "execution_count": null,
   "metadata": {},
   "outputs": [],
   "source": [
    "# Step 3: Combine Intermediate Results into a Final Dataset\n",
    "final_playlists = []\n",
    "\n",
    "for i in range(chunk_count):\n",
    "    with open(f'filtered_playlists_{i}.json', 'r') as infile:\n",
    "        data = json.load(infile)\n",
    "        final_playlists.extend(data['playlists'])\n",
    "\n",
    "with open('final_filtered_playlists.json', 'w') as final_file:\n",
    "    json.dump({\"playlists\": final_playlists}, final_file, indent=4)"
   ]
  }
 ],
 "metadata": {
  "kernelspec": {
   "display_name": "base",
   "language": "python",
   "name": "python3"
  },
  "language_info": {
   "codemirror_mode": {
    "name": "ipython",
    "version": 3
   },
   "file_extension": ".py",
   "mimetype": "text/x-python",
   "name": "python",
   "nbconvert_exporter": "python",
   "pygments_lexer": "ipython3",
   "version": "3.10.9"
  }
 },
 "nbformat": 4,
 "nbformat_minor": 2
}
