{
 "cells": [
  {
   "cell_type": "code",
   "execution_count": 1,
   "id": "234e1866-555a-4fdc-8d13-90bea05521d6",
   "metadata": {},
   "outputs": [
    {
     "name": "stdout",
     "output_type": "stream",
     "text": [
      "Requirement already satisfied: pandas in /opt/conda/lib/python3.10/site-packages (2.2.2)\n",
      "Requirement already satisfied: numpy>=1.22.4 in /opt/conda/lib/python3.10/site-packages (from pandas) (1.26.4)\n",
      "Requirement already satisfied: python-dateutil>=2.8.2 in /opt/conda/lib/python3.10/site-packages (from pandas) (2.9.0)\n",
      "Requirement already satisfied: pytz>=2020.1 in /opt/conda/lib/python3.10/site-packages (from pandas) (2024.1)\n",
      "Requirement already satisfied: tzdata>=2022.7 in /opt/conda/lib/python3.10/site-packages (from pandas) (2024.1)\n",
      "Requirement already satisfied: six>=1.5 in /opt/conda/lib/python3.10/site-packages (from python-dateutil>=2.8.2->pandas) (1.16.0)\n",
      "Note: you may need to restart the kernel to use updated packages.\n",
      "Requirement already satisfied: matplotlib in /opt/conda/lib/python3.10/site-packages (3.9.0)\n",
      "Requirement already satisfied: contourpy>=1.0.1 in /opt/conda/lib/python3.10/site-packages (from matplotlib) (1.2.1)\n",
      "Requirement already satisfied: cycler>=0.10 in /opt/conda/lib/python3.10/site-packages (from matplotlib) (0.12.1)\n",
      "Requirement already satisfied: fonttools>=4.22.0 in /opt/conda/lib/python3.10/site-packages (from matplotlib) (4.52.1)\n",
      "Requirement already satisfied: kiwisolver>=1.3.1 in /opt/conda/lib/python3.10/site-packages (from matplotlib) (1.4.5)\n",
      "Requirement already satisfied: numpy>=1.23 in /opt/conda/lib/python3.10/site-packages (from matplotlib) (1.26.4)\n",
      "Requirement already satisfied: packaging>=20.0 in /opt/conda/lib/python3.10/site-packages (from matplotlib) (24.0)\n",
      "Requirement already satisfied: pillow>=8 in /opt/conda/lib/python3.10/site-packages (from matplotlib) (10.3.0)\n",
      "Requirement already satisfied: pyparsing>=2.3.1 in /opt/conda/lib/python3.10/site-packages (from matplotlib) (3.1.2)\n",
      "Requirement already satisfied: python-dateutil>=2.7 in /opt/conda/lib/python3.10/site-packages (from matplotlib) (2.9.0)\n",
      "Requirement already satisfied: six>=1.5 in /opt/conda/lib/python3.10/site-packages (from python-dateutil>=2.7->matplotlib) (1.16.0)\n",
      "Note: you may need to restart the kernel to use updated packages.\n",
      "Requirement already satisfied: seaborn in /opt/conda/lib/python3.10/site-packages (0.13.2)\n",
      "Requirement already satisfied: numpy!=1.24.0,>=1.20 in /opt/conda/lib/python3.10/site-packages (from seaborn) (1.26.4)\n",
      "Requirement already satisfied: pandas>=1.2 in /opt/conda/lib/python3.10/site-packages (from seaborn) (2.2.2)\n",
      "Requirement already satisfied: matplotlib!=3.6.1,>=3.4 in /opt/conda/lib/python3.10/site-packages (from seaborn) (3.9.0)\n",
      "Requirement already satisfied: contourpy>=1.0.1 in /opt/conda/lib/python3.10/site-packages (from matplotlib!=3.6.1,>=3.4->seaborn) (1.2.1)\n",
      "Requirement already satisfied: cycler>=0.10 in /opt/conda/lib/python3.10/site-packages (from matplotlib!=3.6.1,>=3.4->seaborn) (0.12.1)\n",
      "Requirement already satisfied: fonttools>=4.22.0 in /opt/conda/lib/python3.10/site-packages (from matplotlib!=3.6.1,>=3.4->seaborn) (4.52.1)\n",
      "Requirement already satisfied: kiwisolver>=1.3.1 in /opt/conda/lib/python3.10/site-packages (from matplotlib!=3.6.1,>=3.4->seaborn) (1.4.5)\n",
      "Requirement already satisfied: packaging>=20.0 in /opt/conda/lib/python3.10/site-packages (from matplotlib!=3.6.1,>=3.4->seaborn) (24.0)\n",
      "Requirement already satisfied: pillow>=8 in /opt/conda/lib/python3.10/site-packages (from matplotlib!=3.6.1,>=3.4->seaborn) (10.3.0)\n",
      "Requirement already satisfied: pyparsing>=2.3.1 in /opt/conda/lib/python3.10/site-packages (from matplotlib!=3.6.1,>=3.4->seaborn) (3.1.2)\n",
      "Requirement already satisfied: python-dateutil>=2.7 in /opt/conda/lib/python3.10/site-packages (from matplotlib!=3.6.1,>=3.4->seaborn) (2.9.0)\n",
      "Requirement already satisfied: pytz>=2020.1 in /opt/conda/lib/python3.10/site-packages (from pandas>=1.2->seaborn) (2024.1)\n",
      "Requirement already satisfied: tzdata>=2022.7 in /opt/conda/lib/python3.10/site-packages (from pandas>=1.2->seaborn) (2024.1)\n",
      "Requirement already satisfied: six>=1.5 in /opt/conda/lib/python3.10/site-packages (from python-dateutil>=2.7->matplotlib!=3.6.1,>=3.4->seaborn) (1.16.0)\n",
      "Note: you may need to restart the kernel to use updated packages.\n",
      "Requirement already satisfied: scikit-learn in /opt/conda/lib/python3.10/site-packages (1.5.0)\n",
      "Requirement already satisfied: numpy>=1.19.5 in /opt/conda/lib/python3.10/site-packages (from scikit-learn) (1.26.4)\n",
      "Requirement already satisfied: scipy>=1.6.0 in /opt/conda/lib/python3.10/site-packages (from scikit-learn) (1.13.1)\n",
      "Requirement already satisfied: joblib>=1.2.0 in /opt/conda/lib/python3.10/site-packages (from scikit-learn) (1.4.2)\n",
      "Requirement already satisfied: threadpoolctl>=3.1.0 in /opt/conda/lib/python3.10/site-packages (from scikit-learn) (3.5.0)\n",
      "Note: you may need to restart the kernel to use updated packages.\n",
      "Requirement already satisfied: tqdm in /opt/conda/lib/python3.10/site-packages (4.66.2)\n",
      "Note: you may need to restart the kernel to use updated packages.\n",
      "Requirement already satisfied: xgboost in /opt/conda/lib/python3.10/site-packages (2.0.3)\n",
      "Requirement already satisfied: numpy in /opt/conda/lib/python3.10/site-packages (from xgboost) (1.26.4)\n",
      "Requirement already satisfied: scipy in /opt/conda/lib/python3.10/site-packages (from xgboost) (1.13.1)\n",
      "Note: you may need to restart the kernel to use updated packages.\n"
     ]
    }
   ],
   "source": [
    "%pip install pandas\n",
    "%pip install -U matplotlib\n",
    "%pip install seaborn\n",
    "%pip install scikit-learn\n",
    "%pip install tqdm\n",
    "%pip install xgboost\n"
   ]
  },
  {
   "cell_type": "code",
   "execution_count": 1,
   "id": "dc761367-3022-4ad1-bee3-f568e3e37dd5",
   "metadata": {},
   "outputs": [],
   "source": [
    "import pandas as pd\n",
    "import json\n",
    "import matplotlib.pyplot as plt\n",
    "import seaborn as sns\n",
    "import os\n",
    "import joblib\n",
    "\n",
    "from tqdm import tqdm"
   ]
  },
  {
   "cell_type": "code",
   "execution_count": null,
   "id": "88fa31ad-7340-4678-9f01-a423131fbec4",
   "metadata": {},
   "outputs": [],
   "source": [
    "import multiprocessing\n",
    "\n",
    "multiprocessing.cpu_count()"
   ]
  },
  {
   "cell_type": "code",
   "execution_count": 2,
   "id": "a64c8bbf-8e73-4d9e-9b87-5c6a3ab217c2",
   "metadata": {},
   "outputs": [
    {
     "name": "stderr",
     "output_type": "stream",
     "text": [
      "/opt/conda/lib/python3.10/site-packages/sklearn/experimental/enable_hist_gradient_boosting.py:16: UserWarning: Since version 1.0, it is not needed to import enable_hist_gradient_boosting anymore. HistGradientBoostingClassifier and HistGradientBoostingRegressor are now stable and can be normally imported from sklearn.ensemble.\n",
      "  warnings.warn(\n"
     ]
    }
   ],
   "source": [
    "from sklearn.model_selection import train_test_split, GridSearchCV, StratifiedKFold\n",
    "from sklearn.ensemble import RandomForestClassifier\n",
    "from sklearn.preprocessing import StandardScaler, MinMaxScaler\n",
    "from sklearn.experimental import enable_hist_gradient_boosting\n",
    "from sklearn.ensemble import HistGradientBoostingClassifier\n",
    "from sklearn.metrics import accuracy_score, precision_score, recall_score, f1_score, confusion_matrix, classification_report\n",
    "from xgboost import XGBClassifier\n"
   ]
  },
  {
   "cell_type": "code",
   "execution_count": 3,
   "id": "72ed6b4c-f6a8-44ba-a443-f7d1adfde131",
   "metadata": {},
   "outputs": [],
   "source": [
    "# Load the dataset\n",
    "file_path = 'enriched_playlist_v2.csv'  # Update with the correct path\n",
    "data = pd.read_csv(file_path)"
   ]
  },
  {
   "cell_type": "code",
   "execution_count": 4,
   "id": "d152ee64-5591-4cab-9b90-5c51059937b8",
   "metadata": {},
   "outputs": [],
   "source": [
    "# Convert to more memory-efficient data types\n",
    "for col in data.select_dtypes(include=['float64']).columns:\n",
    "    data[col] = data[col].astype('float32')\n",
    "for col in data.select_dtypes(include=['int64']).columns:\n",
    "    data[col] = data[col].astype('int32')\n"
   ]
  },
  {
   "cell_type": "code",
   "execution_count": 5,
   "id": "cbd8b28b-d7d5-4cbc-9264-3d0dd9351566",
   "metadata": {},
   "outputs": [],
   "source": [
    "# Identify and remove sparse classes\n",
    "min_samples_per_class = 20\n",
    "value_counts = data['playlist_id'].value_counts()\n",
    "to_remove = value_counts[value_counts < min_samples_per_class].index\n",
    "data = data[~data['playlist_id'].isin(to_remove)]"
   ]
  },
  {
   "cell_type": "code",
   "execution_count": 6,
   "id": "499a8044-6d98-45d3-ac9c-b4f9b00577dd",
   "metadata": {},
   "outputs": [
    {
     "name": "stdout",
     "output_type": "stream",
     "text": [
      "Class distribution after removal:\n",
      "playlist_id\n",
      "189048    250\n",
      "954734    250\n",
      "35417     250\n",
      "23337     250\n",
      "368004    250\n",
      "         ... \n",
      "451948     20\n",
      "817052     20\n",
      "2508       20\n",
      "179201     20\n",
      "7400       20\n",
      "Name: count, Length: 12076, dtype: int64\n"
     ]
    }
   ],
   "source": [
    "# Verify removal\n",
    "remaining_counts = data['playlist_id'].value_counts()\n",
    "print(\"Class distribution after removal:\")\n",
    "print(remaining_counts)\n",
    "\n",
    "# Ensure no class has fewer than min_samples_per_class\n",
    "assert remaining_counts.min() >= min_samples_per_class, \"There are still classes with fewer than the minimum required samples.\"\n"
   ]
  },
  {
   "cell_type": "code",
   "execution_count": null,
   "id": "fb3f74d2-f44d-463c-abd1-12106e04abb1",
   "metadata": {},
   "outputs": [],
   "source": [
    "print(data.info())"
   ]
  },
  {
   "cell_type": "code",
   "execution_count": null,
   "id": "c6052e24-eda7-4c3c-9a05-2869df0bf233",
   "metadata": {},
   "outputs": [],
   "source": [
    "print(value_counts[value_counts >= min_samples_per_class])"
   ]
  },
  {
   "cell_type": "code",
   "execution_count": 17,
   "id": "0d7c3b64-92b9-4724-8a4d-0a1bdf2e80f9",
   "metadata": {},
   "outputs": [],
   "source": [
    "# Separate features for normalization and standardization\n",
    "features_to_normalize = ['danceability', 'energy', 'speechiness', 'acousticness', 'instrumentalness', 'liveness', 'valence']\n",
    "features_to_standardize = ['loudness', 'tempo']\n",
    "\n",
    "# Prepare features and labels\n",
    "X = data[['danceability', 'energy', 'loudness', 'speechiness',\n",
    "          'acousticness', 'instrumentalness', 'liveness', 'valence', 'tempo']]\n",
    "y = data['playlist_id']\n",
    "\n",
    "\n",
    "\n",
    "# Apply MinMaxScaler for normalization\n",
    "scaler_norm = MinMaxScaler()\n",
    "X.loc[:, features_to_normalize] = scaler_norm.fit_transform(X[features_to_normalize])\n",
    "\n",
    "# Apply StandardScaler for standardization\n",
    "scaler_std = StandardScaler()\n",
    "X.loc[:, features_to_standardize] = scaler_std.fit_transform(X[features_to_standardize])"
   ]
  },
  {
   "cell_type": "code",
   "execution_count": null,
   "id": "8071d292-fed3-4579-89c6-9e8fa04956ac",
   "metadata": {},
   "outputs": [],
   "source": [
    "# Create a smaller subset manually to ensure the minimum sample requirement is met\n",
    "subset_fraction = 0.05\n",
    "# Ensure subset meets the minimum requirement\n",
    "subset = data.groupby('playlist_id').apply(lambda x: x.sample(n=min(len(x), min_samples_per_class), random_state=42))\n",
    "subset = subset.reset_index(drop=True)\n",
    "\n",
    "X_subset = subset[['danceability', 'energy', 'loudness', 'speechiness',\n",
    "                   'acousticness', 'instrumentalness', 'liveness', 'valence', 'tempo']]\n",
    "y_subset = subset['playlist_id']\n",
    "\n",
    "# Verify subset class distribution\n",
    "subset_counts = y_subset.value_counts()\n",
    "print(\"Subset class distribution:\")\n",
    "print(subset_counts)\n",
    "assert subset_counts.min() >= min_samples_per_class, \"Subset still has classes with fewer than the minimum required samples.\"\n",
    "\n"
   ]
  },
  {
   "cell_type": "code",
   "execution_count": null,
   "id": "e06d03ac-daff-471e-9cd6-cdc470152a51",
   "metadata": {},
   "outputs": [],
   "source": [
    "print(subset.info())"
   ]
  },
  {
   "cell_type": "code",
   "execution_count": null,
   "id": "918d1ed3-1009-4ccc-88e4-0b652aa0db35",
   "metadata": {},
   "outputs": [],
   "source": [
    "# Split the subset into training and test sets for cross-validation\n",
    "X_train, X_test, y_train, y_test = train_test_split(X_subset, y_subset, test_size=0.2, random_state=42)\n",
    "\n",
    "# Define the parameter grid for Grid Search\n",
    "param_grid = {\n",
    "    'max_depth': [None, 10, 20, 30],\n",
    "    'n_estimators': [50, 100],\n",
    "    'max_features': ['auto', 'sqrt']\n",
    "}\n",
    "\n",
    "\n",
    "# Initialize the Random Forest model\n",
    "rf = RandomForestClassifier(random_state=42)\n",
    "\n",
    "# Initialize Grid Search\n",
    "grid_search = GridSearchCV(estimator=rf, param_grid=param_grid, cv=3, n_jobs=-1, scoring='accuracy')\n",
    "\n",
    "# Fit Grid Search on the smaller subset\n",
    "grid_search.fit(X_train, y_train)\n",
    "\n",
    "\n"
   ]
  },
  {
   "cell_type": "code",
   "execution_count": null,
   "id": "3e707cca-3dc9-4878-bc3c-cb3e4a435b18",
   "metadata": {},
   "outputs": [],
   "source": [
    "# Get the best parameters and score\n",
    "best_params = grid_search.best_params_\n",
    "best_score = grid_search.best_score_\n",
    "\n",
    "print(f\"Best parameters: {best_params}\")\n",
    "print(f\"Best cross-validation score: {best_score:.2f}\")"
   ]
  },
  {
   "cell_type": "code",
   "execution_count": null,
   "id": "04a94164-3a4a-4365-ba10-8712e65abf70",
   "metadata": {},
   "outputs": [],
   "source": [
    "# Evaluate the best model on the test set\n",
    "best_rf = grid_search.best_estimator_\n",
    "test_accuracy = best_rf.score(X_test, y_test)\n",
    "print(f\"Test set accuracy on subset: {test_accuracy:.2f}\")\n",
    "\n",
    "# Save the trained model from Grid Search\n",
    "model_filename = 'best_random_forest_model.joblib'\n",
    "joblib.dump(best_rf, model_filename)\n",
    "print(f\"Model saved to {model_filename}\")\n",
    "\n",
    "# Load the model and evaluate on the test set\n",
    "rf_loaded = joblib.load(model_filename)\n",
    "test_accuracy_loaded = rf_loaded.score(X_test, y_test)\n",
    "print(f\"Test set accuracy with loaded model on subset: {test_accuracy_loaded:.2f}\")"
   ]
  },
  {
   "cell_type": "code",
   "execution_count": 9,
   "id": "23e4942a-cf88-4348-8c87-440da1a7d7d0",
   "metadata": {},
   "outputs": [],
   "source": [
    "# Apply the best parameters to the full dataset\n",
    "X_train_full, X_test_full, y_train_full, y_test_full = train_test_split(X, y, test_size=0.2, random_state=42)"
   ]
  },
  {
   "cell_type": "code",
   "execution_count": null,
   "id": "e2a56be2-38e2-46d5-af60-96a9b8577366",
   "metadata": {},
   "outputs": [],
   "source": [
    "# Apply the best parameters to the full dataset\n",
    "X_train_full, X_test_full, y_train_full, y_test_full = train_test_split(X, y, test_size=0.2, random_state=42)\n",
    "\n",
    "# Initialize the Random Forest model with the best parameters\n",
    "rf_full = RandomForestClassifier(**best_params, random_state=42)\n",
    "\n",
    "# Train on the full dataset\n",
    "rf_full.fit(X_train_full, y_train_full)\n",
    "\n",
    "# Save the trained model from the full dataset\n",
    "full_model_filename = 'full_random_forest_model.joblib'\n",
    "joblib.dump(rf_full, full_model_filename)\n",
    "print(f\"Full model saved to {full_model_filename}\")\n",
    "\n",
    "# Load the full model and evaluate on the test set\n",
    "rf_full_loaded = joblib.load(full_model_filename)\n",
    "test_accuracy_full_loaded = rf_full_loaded.score(X_test_full, y_test_full)\n",
    "print(f\"Test set accuracy with full loaded model: {test_accuracy_full_loaded:.2f}\")"
   ]
  },
  {
   "cell_type": "code",
   "execution_count": null,
   "id": "9eb43018-6eea-4cd4-b079-2d1caab7fca5",
   "metadata": {},
   "outputs": [],
   "source": [
    "\n",
    "\n",
    "# Split the data into training and testing sets\n",
    "X_train_full, X_test_full, y_train_full, y_test_full = train_test_split(X, y, test_size=0.2, random_state=42)\n",
    "\n",
    "\n",
    "# Initialize the HistGradientBoostingClassifier model with n_jobs for parallel processing\n",
    "hgb_model = HistGradientBoostingClassifier(random_state=42)\n",
    "\n",
    "\n",
    "# Train the model with progress tracking\n",
    "hgb_model.fit(X_train_full, y_train_full)\n",
    "\n",
    "# Evaluate the model\n",
    "y_pred = hgb_model.predict(X_test_full)\n",
    "\n",
    "# Calculate evaluation metrics\n",
    "accuracy = accuracy_score(y_test_full, y_pred)\n",
    "precision = precision_score(y_test_full, y_pred, average='weighted')\n",
    "recall = recall_score(y_test_full, y_pred, average='weighted')\n",
    "f1 = f1_score(y_test_full, y_pred, average='weighted')\n",
    "conf_matrix = confusion_matrix(y_test_full, y_pred)\n",
    "class_report = classification_report(y_test_full, y_pred)\n",
    "\n",
    "print(f\"Hist Gradient Boosting Test set accuracy: {accuracy:.2f}\")\n",
    "print(f\"Hist Gradient Boosting Test set precision: {precision:.2f}\")\n",
    "print(f\"Hist Gradient Boosting Test set recall: {recall:.2f}\")\n",
    "print(f\"Hist Gradient Boosting Test set F1 score: {f1:.2f}\")\n",
    "print(f\"Hist Gradient Boosting Confusion Matrix:\\n{conf_matrix}\")\n",
    "print(f\"Hist Gradient Boosting Classification Report:\\n{class_report}\")\n",
    "\n",
    "# Save the trained model\n",
    "\n",
    "model_dir = 'saved_models'\n",
    "os.makedirs(model_dir, exist_ok=True)\n",
    "model_filename = os.path.join(model_dir, 'hist_gradient_boosting_model.joblib')\n",
    "joblib.dump(hgb_model, model_filename)\n",
    "print(f\"Model saved to {model_filename}\")\n",
    "\n",
    "\n"
   ]
  },
  {
   "cell_type": "code",
   "execution_count": 10,
   "id": "c266e5a9-9b29-456f-a5be-16dd1c1c6eb5",
   "metadata": {},
   "outputs": [
    {
     "name": "stderr",
     "output_type": "stream",
     "text": [
      "/opt/conda/lib/python3.10/site-packages/sklearn/metrics/_classification.py:1517: UndefinedMetricWarning: Precision is ill-defined and being set to 0.0 in labels with no predicted samples. Use `zero_division` parameter to control this behavior.\n",
      "  _warn_prf(average, modifier, f\"{metric.capitalize()} is\", len(result))\n",
      "/opt/conda/lib/python3.10/site-packages/sklearn/metrics/_classification.py:1517: UndefinedMetricWarning: Recall is ill-defined and being set to 0.0 in labels with no true samples. Use `zero_division` parameter to control this behavior.\n",
      "  _warn_prf(average, modifier, f\"{metric.capitalize()} is\", len(result))\n",
      "/opt/conda/lib/python3.10/site-packages/sklearn/metrics/_classification.py:1517: UndefinedMetricWarning: Precision is ill-defined and being set to 0.0 in labels with no predicted samples. Use `zero_division` parameter to control this behavior.\n",
      "  _warn_prf(average, modifier, f\"{metric.capitalize()} is\", len(result))\n",
      "/opt/conda/lib/python3.10/site-packages/sklearn/metrics/_classification.py:1517: UndefinedMetricWarning: Recall is ill-defined and being set to 0.0 in labels with no true samples. Use `zero_division` parameter to control this behavior.\n",
      "  _warn_prf(average, modifier, f\"{metric.capitalize()} is\", len(result))\n",
      "/opt/conda/lib/python3.10/site-packages/sklearn/metrics/_classification.py:1517: UndefinedMetricWarning: Precision is ill-defined and being set to 0.0 in labels with no predicted samples. Use `zero_division` parameter to control this behavior.\n",
      "  _warn_prf(average, modifier, f\"{metric.capitalize()} is\", len(result))\n",
      "/opt/conda/lib/python3.10/site-packages/sklearn/metrics/_classification.py:1517: UndefinedMetricWarning: Recall is ill-defined and being set to 0.0 in labels with no true samples. Use `zero_division` parameter to control this behavior.\n",
      "  _warn_prf(average, modifier, f\"{metric.capitalize()} is\", len(result))\n",
      "/opt/conda/lib/python3.10/site-packages/sklearn/metrics/_classification.py:1517: UndefinedMetricWarning: Precision is ill-defined and being set to 0.0 in labels with no predicted samples. Use `zero_division` parameter to control this behavior.\n",
      "  _warn_prf(average, modifier, f\"{metric.capitalize()} is\", len(result))\n",
      "/opt/conda/lib/python3.10/site-packages/sklearn/metrics/_classification.py:1517: UndefinedMetricWarning: Recall is ill-defined and being set to 0.0 in labels with no true samples. Use `zero_division` parameter to control this behavior.\n",
      "  _warn_prf(average, modifier, f\"{metric.capitalize()} is\", len(result))\n"
     ]
    }
   ],
   "source": [
    "from sklearn.preprocessing import LabelEncoder\n",
    "# Encode the target labels\n",
    "label_encoder = LabelEncoder()\n",
    "y_encoded = label_encoder.fit_transform(y)\n",
    "\n",
    "# Split the data into training and testing sets\n",
    "X_train_full, X_test_full, y_train_full, y_test_full = train_test_split(X, y_encoded, test_size=0.2, random_state=42)\n",
    "\n",
    "\n",
    "xgb_model = XGBClassifier(tree_method='hist', random_state=42, verbosity=2)\n",
    "\n",
    "# Train the model\n",
    "xgb_model.fit(X_train_full, y_train_full)\n",
    "\n",
    "# Evaluate the model\n",
    "y_pred = xgb_model.predict(X_test_full)\n",
    "\n",
    "# Decode the predicted labels\n",
    "y_pred_decoded = label_encoder.inverse_transform(y_pred)\n",
    "\n",
    "# Decode the true labels\n",
    "y_test_full_decoded = label_encoder.inverse_transform(y_test_full)\n",
    "# Calculate evaluation metrics\n",
    "accuracy = accuracy_score(y_test_full, y_pred)\n",
    "precision = precision_score(y_test_full, y_pred, average='weighted')\n",
    "recall = recall_score(y_test_full, y_pred, average='weighted')\n",
    "f1 = f1_score(y_test_full, y_pred, average='weighted')\n",
    "conf_matrix = confusion_matrix(y_test_full, y_pred)\n",
    "class_report = classification_report(y_test_full, y_pred)"
   ]
  },
  {
   "cell_type": "code",
   "execution_count": 14,
   "id": "6e71fb83-73db-4178-b88c-b090e12ae01e",
   "metadata": {},
   "outputs": [
    {
     "name": "stdout",
     "output_type": "stream",
     "text": [
      "Model saved to saved_models/xgb_model.joblib\n"
     ]
    }
   ],
   "source": [
    "model_dir = 'saved_models'\n",
    "os.makedirs(model_dir, exist_ok=True)\n",
    "model_filename = os.path.join(model_dir, 'xgb_model.joblib')\n",
    "joblib.dump(xgb_model, model_filename)\n",
    "print(f\"Model saved to {model_filename}\")"
   ]
  },
  {
   "cell_type": "code",
   "execution_count": 15,
   "id": "bb734d74-2305-4d62-b1d7-933115e90034",
   "metadata": {},
   "outputs": [
    {
     "name": "stdout",
     "output_type": "stream",
     "text": [
      "Loaded model Test set accuracy: 0.01\n",
      "Loaded model Test set precision: 0.01\n",
      "Loaded model Test set recall: 0.01\n",
      "Loaded model Test set F1 score: 0.01\n"
     ]
    },
    {
     "name": "stderr",
     "output_type": "stream",
     "text": [
      "/opt/conda/lib/python3.10/site-packages/sklearn/metrics/_classification.py:1517: UndefinedMetricWarning: Precision is ill-defined and being set to 0.0 in labels with no predicted samples. Use `zero_division` parameter to control this behavior.\n",
      "  _warn_prf(average, modifier, f\"{metric.capitalize()} is\", len(result))\n",
      "/opt/conda/lib/python3.10/site-packages/sklearn/metrics/_classification.py:1517: UndefinedMetricWarning: Recall is ill-defined and being set to 0.0 in labels with no true samples. Use `zero_division` parameter to control this behavior.\n",
      "  _warn_prf(average, modifier, f\"{metric.capitalize()} is\", len(result))\n"
     ]
    }
   ],
   "source": [
    "# Load the saved model and evaluate it\n",
    "loaded_model = joblib.load(model_filename)\n",
    "y_pred_loaded = loaded_model.predict(X_test_full)\n",
    "\n",
    "# Calculate evaluation metrics for the loaded model\n",
    "accuracy_loaded = accuracy_score(y_test_full, y_pred_loaded)\n",
    "precision_loaded = precision_score(y_test_full, y_pred_loaded, average='weighted')\n",
    "recall_loaded = recall_score(y_test_full, y_pred_loaded, average='weighted')\n",
    "f1_loaded = f1_score(y_test_full, y_pred_loaded, average='weighted')\n",
    "\n",
    "# Print evaluation metrics for the loaded model\n",
    "print(f\"Loaded model Test set accuracy: {accuracy_loaded:.2f}\")\n",
    "print(f\"Loaded model Test set precision: {precision_loaded:.2f}\")\n",
    "print(f\"Loaded model Test set recall: {recall_loaded:.2f}\")\n",
    "print(f\"Loaded model Test set F1 score: {f1_loaded:.2f}\")"
   ]
  },
  {
   "cell_type": "code",
   "execution_count": 16,
   "id": "3c9afdbb-fc10-42a4-86ec-1dfc35c888bb",
   "metadata": {},
   "outputs": [
    {
     "name": "stdout",
     "output_type": "stream",
     "text": [
      "            Feature  Importance\n",
      "5  instrumentalness    0.136115\n",
      "4      acousticness    0.119071\n",
      "7           valence    0.117230\n",
      "2          loudness    0.113210\n",
      "1            energy    0.109771\n",
      "0      danceability    0.107051\n",
      "3       speechiness    0.105681\n",
      "8             tempo    0.097289\n",
      "6          liveness    0.094583\n"
     ]
    },
    {
     "data": {
      "image/png": "[encoded data removed]",
      "text/plain": [
       "<Figure size 1200x600 with 1 Axes>"
      ]
     },
     "metadata": {},
     "output_type": "display_data"
    }
   ],
   "source": [
    "# Calculate feature importance\n",
    "feature_importances = xgb_model.feature_importances_\n",
    "\n",
    "# Create a DataFrame for feature importance\n",
    "feature_importance_df = pd.DataFrame({\n",
    "    'Feature': X.columns,\n",
    "    'Importance': feature_importances\n",
    "}).sort_values(by='Importance', ascending=False)\n",
    "\n",
    "# Display the feature importances\n",
    "print(feature_importance_df)\n",
    "\n",
    "# Plot feature importances\n",
    "plt.figure(figsize=(12, 6))\n",
    "plt.barh(feature_importance_df['Feature'], feature_importance_df['Importance'])\n",
    "plt.xlabel('Feature Importance')\n",
    "plt.ylabel('Feature')\n",
    "plt.title('Feature Importances from XGBoost Model')\n",
    "plt.gca().invert_yaxis()\n",
    "plt.show()"
   ]
  },
  {
   "cell_type": "code",
   "execution_count": null,
   "id": "b25b2a99-5160-4922-bc72-8fb40a293240",
   "metadata": {},
   "outputs": [],
   "source": []
  }
 ],
 "metadata": {
  "kernelspec": {
   "display_name": "Python 3 ",
   "language": "python",
   "name": "python3"
  },
  "language_info": {
   "codemirror_mode": {
    "name": "ipython",
    "version": 3
   },
   "file_extension": ".py",
   "mimetype": "text/x-python",
   "name": "python",
   "nbconvert_exporter": "python",
   "pygments_lexer": "ipython3",
   "version": "3.10.14"
  }
 },
 "nbformat": 4,
 "nbformat_minor": 5
}
