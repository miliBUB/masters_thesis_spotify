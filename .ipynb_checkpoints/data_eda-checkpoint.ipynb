{
 "cells": [
  {
   "cell_type": "code",
   "execution_count": 2,
   "metadata": {
    "scrolled": true
   },
   "outputs": [
    {
     "name": "stdout",
     "output_type": "stream",
     "text": [
      "Requirement already satisfied: pandas in /opt/conda/lib/python3.10/site-packages (2.2.2)\n",
      "Requirement already satisfied: numpy>=1.22.4 in /opt/conda/lib/python3.10/site-packages (from pandas) (1.26.4)\n",
      "Requirement already satisfied: python-dateutil>=2.8.2 in /opt/conda/lib/python3.10/site-packages (from pandas) (2.9.0)\n",
      "Requirement already satisfied: pytz>=2020.1 in /opt/conda/lib/python3.10/site-packages (from pandas) (2024.1)\n",
      "Requirement already satisfied: tzdata>=2022.7 in /opt/conda/lib/python3.10/site-packages (from pandas) (2024.1)\n",
      "Requirement already satisfied: six>=1.5 in /opt/conda/lib/python3.10/site-packages (from python-dateutil>=2.8.2->pandas) (1.16.0)\n",
      "Note: you may need to restart the kernel to use updated packages.\n",
      "Requirement already satisfied: matplotlib in /opt/conda/lib/python3.10/site-packages (3.8.4)\n",
      "Collecting matplotlib\n",
      "  Downloading matplotlib-3.9.0-cp310-cp310-manylinux_2_17_x86_64.manylinux2014_x86_64.whl.metadata (11 kB)\n",
      "Requirement already satisfied: contourpy>=1.0.1 in /opt/conda/lib/python3.10/site-packages (from matplotlib) (1.2.1)\n",
      "Requirement already satisfied: cycler>=0.10 in /opt/conda/lib/python3.10/site-packages (from matplotlib) (0.12.1)\n",
      "Requirement already satisfied: fonttools>=4.22.0 in /opt/conda/lib/python3.10/site-packages (from matplotlib) (4.52.1)\n",
      "Requirement already satisfied: kiwisolver>=1.3.1 in /opt/conda/lib/python3.10/site-packages (from matplotlib) (1.4.5)\n",
      "Requirement already satisfied: numpy>=1.23 in /opt/conda/lib/python3.10/site-packages (from matplotlib) (1.26.4)\n",
      "Requirement already satisfied: packaging>=20.0 in /opt/conda/lib/python3.10/site-packages (from matplotlib) (24.0)\n",
      "Requirement already satisfied: pillow>=8 in /opt/conda/lib/python3.10/site-packages (from matplotlib) (10.3.0)\n",
      "Requirement already satisfied: pyparsing>=2.3.1 in /opt/conda/lib/python3.10/site-packages (from matplotlib) (3.1.2)\n",
      "Requirement already satisfied: python-dateutil>=2.7 in /opt/conda/lib/python3.10/site-packages (from matplotlib) (2.9.0)\n",
      "Requirement already satisfied: six>=1.5 in /opt/conda/lib/python3.10/site-packages (from python-dateutil>=2.7->matplotlib) (1.16.0)\n",
      "Downloading matplotlib-3.9.0-cp310-cp310-manylinux_2_17_x86_64.manylinux2014_x86_64.whl (8.3 MB)\n",
      "\u001b[2K   \u001b[90m━━━━━━━━━━━━━━━━━━━━━━━━━━━━━━━━━━━━━━━━\u001b[0m \u001b[32m8.3/8.3 MB\u001b[0m \u001b[31m34.1 MB/s\u001b[0m eta \u001b[36m0:00:00\u001b[0m:00:01\u001b[0m00:01\u001b[0m\n",
      "\u001b[?25hInstalling collected packages: matplotlib\n",
      "  Attempting uninstall: matplotlib\n",
      "    Found existing installation: matplotlib 3.8.4\n",
      "    Uninstalling matplotlib-3.8.4:\n",
      "      Successfully uninstalled matplotlib-3.8.4\n",
      "Successfully installed matplotlib-3.9.0\n",
      "Note: you may need to restart the kernel to use updated packages.\n",
      "Collecting seaborn\n",
      "  Downloading seaborn-0.13.2-py3-none-any.whl.metadata (5.4 kB)\n",
      "Requirement already satisfied: numpy!=1.24.0,>=1.20 in /opt/conda/lib/python3.10/site-packages (from seaborn) (1.26.4)\n",
      "Requirement already satisfied: pandas>=1.2 in /opt/conda/lib/python3.10/site-packages (from seaborn) (2.2.2)\n",
      "Requirement already satisfied: matplotlib!=3.6.1,>=3.4 in /opt/conda/lib/python3.10/site-packages (from seaborn) (3.9.0)\n",
      "Requirement already satisfied: contourpy>=1.0.1 in /opt/conda/lib/python3.10/site-packages (from matplotlib!=3.6.1,>=3.4->seaborn) (1.2.1)\n",
      "Requirement already satisfied: cycler>=0.10 in /opt/conda/lib/python3.10/site-packages (from matplotlib!=3.6.1,>=3.4->seaborn) (0.12.1)\n",
      "Requirement already satisfied: fonttools>=4.22.0 in /opt/conda/lib/python3.10/site-packages (from matplotlib!=3.6.1,>=3.4->seaborn) (4.52.1)\n",
      "Requirement already satisfied: kiwisolver>=1.3.1 in /opt/conda/lib/python3.10/site-packages (from matplotlib!=3.6.1,>=3.4->seaborn) (1.4.5)\n",
      "Requirement already satisfied: packaging>=20.0 in /opt/conda/lib/python3.10/site-packages (from matplotlib!=3.6.1,>=3.4->seaborn) (24.0)\n",
      "Requirement already satisfied: pillow>=8 in /opt/conda/lib/python3.10/site-packages (from matplotlib!=3.6.1,>=3.4->seaborn) (10.3.0)\n",
      "Requirement already satisfied: pyparsing>=2.3.1 in /opt/conda/lib/python3.10/site-packages (from matplotlib!=3.6.1,>=3.4->seaborn) (3.1.2)\n",
      "Requirement already satisfied: python-dateutil>=2.7 in /opt/conda/lib/python3.10/site-packages (from matplotlib!=3.6.1,>=3.4->seaborn) (2.9.0)\n",
      "Requirement already satisfied: pytz>=2020.1 in /opt/conda/lib/python3.10/site-packages (from pandas>=1.2->seaborn) (2024.1)\n",
      "Requirement already satisfied: tzdata>=2022.7 in /opt/conda/lib/python3.10/site-packages (from pandas>=1.2->seaborn) (2024.1)\n",
      "Requirement already satisfied: six>=1.5 in /opt/conda/lib/python3.10/site-packages (from python-dateutil>=2.7->matplotlib!=3.6.1,>=3.4->seaborn) (1.16.0)\n",
      "Downloading seaborn-0.13.2-py3-none-any.whl (294 kB)\n",
      "\u001b[2K   \u001b[90m━━━━━━━━━━━━━━━━━━━━━━━━━━━━━━━━━━━━━━━━\u001b[0m \u001b[32m294.9/294.9 kB\u001b[0m \u001b[31m1.5 MB/s\u001b[0m eta \u001b[36m0:00:00\u001b[0mta \u001b[36m0:00:01\u001b[0m\n",
      "\u001b[?25hInstalling collected packages: seaborn\n",
      "Successfully installed seaborn-0.13.2\n",
      "Note: you may need to restart the kernel to use updated packages.\n",
      "Collecting scikit-learn\n",
      "  Downloading scikit_learn-1.5.0-cp310-cp310-manylinux_2_17_x86_64.manylinux2014_x86_64.whl.metadata (11 kB)\n",
      "Requirement already satisfied: numpy>=1.19.5 in /opt/conda/lib/python3.10/site-packages (from scikit-learn) (1.26.4)\n",
      "Collecting scipy>=1.6.0 (from scikit-learn)\n",
      "  Downloading scipy-1.13.1-cp310-cp310-manylinux_2_17_x86_64.manylinux2014_x86_64.whl.metadata (60 kB)\n",
      "\u001b[2K     \u001b[90m━━━━━━━━━━━━━━━━━━━━━━━━━━━━━━━━━━━━━━━━\u001b[0m \u001b[32m60.6/60.6 kB\u001b[0m \u001b[31m1.1 MB/s\u001b[0m eta \u001b[36m0:00:00\u001b[0mta \u001b[36m0:00:01\u001b[0m\n",
      "\u001b[?25hCollecting joblib>=1.2.0 (from scikit-learn)\n",
      "  Downloading joblib-1.4.2-py3-none-any.whl.metadata (5.4 kB)\n",
      "Collecting threadpoolctl>=3.1.0 (from scikit-learn)\n",
      "  Downloading threadpoolctl-3.5.0-py3-none-any.whl.metadata (13 kB)\n",
      "Downloading scikit_learn-1.5.0-cp310-cp310-manylinux_2_17_x86_64.manylinux2014_x86_64.whl (13.3 MB)\n",
      "\u001b[2K   \u001b[90m━━━━━━━━━━━━━━━━━━━━━━━━━━━━━━━━━━━━━━━━\u001b[0m \u001b[32m13.3/13.3 MB\u001b[0m \u001b[31m45.8 MB/s\u001b[0m eta \u001b[36m0:00:00\u001b[0m:00:01\u001b[0m0:01\u001b[0m\n",
      "\u001b[?25hDownloading joblib-1.4.2-py3-none-any.whl (301 kB)\n",
      "\u001b[2K   \u001b[90m━━━━━━━━━━━━━━━━━━━━━━━━━━━━━━━━━━━━━━━━\u001b[0m \u001b[32m301.8/301.8 kB\u001b[0m \u001b[31m6.1 MB/s\u001b[0m eta \u001b[36m0:00:00\u001b[0m:00:01\u001b[0m\n",
      "\u001b[?25hDownloading scipy-1.13.1-cp310-cp310-manylinux_2_17_x86_64.manylinux2014_x86_64.whl (38.6 MB)\n",
      "\u001b[2K   \u001b[90m━━━━━━━━━━━━━━━━━━━━━━━━━━━━━━━━━━━━━━━━\u001b[0m \u001b[32m38.6/38.6 MB\u001b[0m \u001b[31m39.6 MB/s\u001b[0m eta \u001b[36m0:00:00\u001b[0m:00:01\u001b[0m00:01\u001b[0m\n",
      "\u001b[?25hDownloading threadpoolctl-3.5.0-py3-none-any.whl (18 kB)\n",
      "Installing collected packages: threadpoolctl, scipy, joblib, scikit-learn\n",
      "Successfully installed joblib-1.4.2 scikit-learn-1.5.0 scipy-1.13.1 threadpoolctl-3.5.0\n",
      "Note: you may need to restart the kernel to use updated packages.\n"
     ]
    }
   ],
   "source": [
    "%pip install pandas\n",
    "%pip install -U matplotlib\n",
    "%pip install seaborn\n",
    "%pip install scikit-learn"
   ]
  },
  {
   "cell_type": "code",
   "execution_count": 1,
   "metadata": {},
   "outputs": [],
   "source": [
    "import pandas as pd\n",
    "import json\n",
    "import matplotlib.pyplot as plt\n",
    "import seaborn as sns\n",
    "import os"
   ]
  },
  {
   "cell_type": "code",
   "execution_count": 2,
   "metadata": {},
   "outputs": [],
   "source": [
    "from sklearn.model_selection import train_test_split\n",
    "from sklearn.ensemble import RandomForestClassifier\n",
    "from sklearn.metrics import classification_report\n",
    "from sklearn.preprocessing import StandardScaler\n",
    "from sklearn.preprocessing import StandardScaler, MinMaxScaler"
   ]
  },
  {
   "cell_type": "code",
   "execution_count": null,
   "metadata": {},
   "outputs": [],
   "source": [
    "#with open('enriched_playlist.json', 'r', encoding='utf-8') as f:\n",
    "    #data = f.read()"
   ]
  },
  {
   "cell_type": "code",
   "execution_count": null,
   "metadata": {},
   "outputs": [],
   "source": [
    "#data = data.replace('\\r\\n', '\\n')"
   ]
  },
  {
   "cell_type": "code",
   "execution_count": null,
   "metadata": {},
   "outputs": [],
   "source": [
    "#data = data.replace('}\\n        {', '},\\n        {')"
   ]
  },
  {
   "cell_type": "code",
   "execution_count": null,
   "metadata": {},
   "outputs": [],
   "source": [
    "#try:\n",
    "   # json_data = json.loads(data)\n",
    "    #print(\"JSON data loaded successfully\")\n",
    "#except json.JSONDecodeError as e:\n",
    "    #print(\"JSON Decode Error:\", e)"
   ]
  },
  {
   "cell_type": "code",
   "execution_count": 3,
   "metadata": {},
   "outputs": [],
   "source": [
    "csv_file_path = 'enriched_playlist_v2.csv'  # Replace with your uploaded CSV file path\n",
    "\n",
    "# Load the CSV file into a DataFrame\n",
    "df = pd.read_csv(csv_file_path)\n"
   ]
  },
  {
   "cell_type": "code",
   "execution_count": 4,
   "metadata": {},
   "outputs": [
    {
     "name": "stdout",
     "output_type": "stream",
     "text": [
      "   playlist_id  num_followers                track_id  \\\n",
      "0          151              1  37eC6DX0aYrFGw8cMQaBG5   \n",
      "1          151              1  142vj1HAI7VBAsn7OPmSHc   \n",
      "2          151              1  5TAf4lnZCZTLlZHNZMLFLi   \n",
      "3          151              1  4bJbSERtCqK9D6DRUPMmMh   \n",
      "4          151              1  62YwtIlJIhRvFG7ChOCZSC   \n",
      "\n",
      "                      track_name    artist_name  danceability  energy  key  \\\n",
      "0  Don't You Worry 'Bout A Thing  Stevie Wonder         0.714   0.726   11   \n",
      "1                  Crazy For You          Adele         0.705   0.144    7   \n",
      "2                          I Try      Macy Gray         0.593   0.642    2   \n",
      "3          A Love That Will Last  Renee Olstead         0.666   0.303   11   \n",
      "4                        If I Go      Ella Eyre         0.538   0.788    7   \n",
      "\n",
      "   loudness  mode  speechiness  acousticness  instrumentalness  liveness  \\\n",
      "0    -9.218     1       0.0408        0.0316          0.000000    0.0666   \n",
      "1   -12.234     1       0.0504        0.9260          0.000001    0.1020   \n",
      "2    -7.284     1       0.0299        0.3130          0.000582    0.0804   \n",
      "3   -11.028     0       0.0356        0.8410          0.000711    0.0971   \n",
      "4    -4.122     0       0.0473        0.0106          0.000000    0.1680   \n",
      "\n",
      "   valence    tempo  duration_ms  \n",
      "0    0.920  124.715       284840  \n",
      "1    0.349   85.892       208040  \n",
      "2    0.736   76.403       239440  \n",
      "3    0.342   81.923       212160  \n",
      "4    0.589  147.921       183266  \n"
     ]
    }
   ],
   "source": [
    "print(df.head())"
   ]
  },
  {
   "cell_type": "code",
   "execution_count": 4,
   "metadata": {},
   "outputs": [
    {
     "name": "stdout",
     "output_type": "stream",
     "text": [
      "        playlist_id  num_followers  danceability        energy           key  \\\n",
      "count  1.020120e+06   1.020120e+06  1.020120e+06  1.020120e+06  1.020120e+06   \n",
      "mean   4.949506e+05   8.220923e+00  5.555361e-01  4.800764e-01  5.041395e+00   \n",
      "std    2.894423e+05   5.464335e+02  1.590818e-01  2.454108e-01  3.545693e+00   \n",
      "min    1.510000e+02   1.000000e+00  0.000000e+00  0.000000e+00  0.000000e+00   \n",
      "25%    2.457880e+05   1.000000e+00  4.510000e-01  2.840000e-01  2.000000e+00   \n",
      "50%    4.867090e+05   1.000000e+00  5.650000e-01  4.750000e-01  5.000000e+00   \n",
      "75%    7.477030e+05   2.000000e+00  6.660000e-01  6.770000e-01  8.000000e+00   \n",
      "max    9.999050e+05   5.351900e+04  9.910000e-01  1.000000e+00  1.100000e+01   \n",
      "\n",
      "           loudness          mode   speechiness  acousticness  \\\n",
      "count  1.020120e+06  1.020120e+06  1.020120e+06  1.020120e+06   \n",
      "mean  -1.053208e+01  6.767096e-01  6.437435e-02  4.856984e-01   \n",
      "std    4.807015e+00  4.677328e-01  6.932985e-02  3.432283e-01   \n",
      "min   -6.000000e+01  0.000000e+00  0.000000e+00  0.000000e+00   \n",
      "25%   -1.319300e+01  0.000000e+00  3.330000e-02  1.340000e-01   \n",
      "50%   -9.754500e+00  1.000000e+00  4.110000e-02  5.080000e-01   \n",
      "75%   -7.031000e+00  1.000000e+00  6.030000e-02  8.170000e-01   \n",
      "max    4.111000e+00  1.000000e+00  9.650000e-01  9.960000e-01   \n",
      "\n",
      "       instrumentalness      liveness       valence         tempo  \\\n",
      "count      1.020120e+06  1.020120e+06  1.020120e+06  1.020120e+06   \n",
      "mean       1.323327e-01  1.815000e-01  5.003421e-01  1.170233e+02   \n",
      "std        2.785428e-01  1.575341e-01  2.525842e-01  2.963777e+01   \n",
      "min        0.000000e+00  0.000000e+00  0.000000e+00  0.000000e+00   \n",
      "25%        0.000000e+00  9.420000e-02  2.930000e-01  9.478900e+01   \n",
      "50%        1.600000e-04  1.190000e-01  4.980000e-01  1.151750e+02   \n",
      "75%        4.060000e-02  2.070000e-01  7.040000e-01  1.341060e+02   \n",
      "max        1.000000e+00  1.000000e+00  1.000000e+00  2.480190e+02   \n",
      "\n",
      "        duration_ms  \n",
      "count  1.020120e+06  \n",
      "mean   2.389038e+05  \n",
      "std    1.031542e+05  \n",
      "min    0.000000e+00  \n",
      "25%    1.804660e+05  \n",
      "50%    2.192400e+05  \n",
      "75%    2.701720e+05  \n",
      "max    5.403500e+06  \n"
     ]
    }
   ],
   "source": [
    "print(df.describe())"
   ]
  },
  {
   "cell_type": "code",
   "execution_count": 5,
   "metadata": {},
   "outputs": [
    {
     "name": "stdout",
     "output_type": "stream",
     "text": [
      "<class 'pandas.core.frame.DataFrame'>\n",
      "RangeIndex: 1020120 entries, 0 to 1020119\n",
      "Data columns (total 17 columns):\n",
      " #   Column            Non-Null Count    Dtype  \n",
      "---  ------            --------------    -----  \n",
      " 0   playlist_id       1020120 non-null  int64  \n",
      " 1   num_followers     1020120 non-null  int64  \n",
      " 2   track_id          1020120 non-null  object \n",
      " 3   track_name        1020120 non-null  object \n",
      " 4   artist_name       1020120 non-null  object \n",
      " 5   danceability      1020120 non-null  float64\n",
      " 6   energy            1020120 non-null  float64\n",
      " 7   key               1020120 non-null  int64  \n",
      " 8   loudness          1020120 non-null  float64\n",
      " 9   mode              1020120 non-null  int64  \n",
      " 10  speechiness       1020120 non-null  float64\n",
      " 11  acousticness      1020120 non-null  float64\n",
      " 12  instrumentalness  1020120 non-null  float64\n",
      " 13  liveness          1020120 non-null  float64\n",
      " 14  valence           1020120 non-null  float64\n",
      " 15  tempo             1020120 non-null  float64\n",
      " 16  duration_ms       1020120 non-null  int64  \n",
      "dtypes: float64(9), int64(5), object(3)\n",
      "memory usage: 132.3+ MB\n",
      "None\n"
     ]
    }
   ],
   "source": [
    "print(df.info())"
   ]
  },
  {
   "cell_type": "code",
   "execution_count": null,
   "metadata": {},
   "outputs": [],
   "source": [
    "# Group by playlist and calculate descriptive statistics\n",
    "playlist_stats = df.groupby('playlist_id').agg({\n",
    "    'danceability': ['mean', 'std'],\n",
    "    'energy': ['mean', 'std'],\n",
    "    'valence': ['mean', 'std'],\n",
    "    'tempo': ['mean', 'std'],\n",
    "    'loudness': ['mean', 'std'],\n",
    "    'speechiness': ['mean', 'std'],\n",
    "    'acousticness': ['mean', 'std'],\n",
    "    'instrumentalness': ['mean', 'std'],\n",
    "    'liveness': ['mean', 'std']\n",
    "}).reset_index()\n",
    "\n",
    "print(playlist_stats)"
   ]
  },
  {
   "cell_type": "code",
   "execution_count": null,
   "metadata": {},
   "outputs": [],
   "source": [
    "#Because of the data size, i will plot only a sample\n",
    "playlist_id_sample = df_tracks['playlist_id'].sample(n=1, random_state=42).iloc[0]\n",
    "df_sampled = df_tracks[df_tracks['playlist_id'] == playlist_id_sample]\n",
    "\n",
    "# Define the features to plot\n",
    "features = ['danceability', 'energy', 'valence', 'tempo', 'loudness', 'speechiness', 'acousticness', 'instrumentalness', 'liveness']\n",
    "\n",
    "# Plot each feature individually using the sampled data\n",
    "for feature in features:\n",
    "    try:\n",
    "        plt.figure(figsize=(10, 5))\n",
    "        sns.histplot(data=df_sampled, x=feature, kde=True, binwidth=0.1)\n",
    "        plt.title(f'Distribution of {feature} for Playlist {playlist_id_sample}')\n",
    "        plt.tight_layout()\n",
    "        plt.show()\n",
    "    except ValueError as e:\n",
    "        print(f\"Could not plot {feature} due to: {e}\")"
   ]
  },
  {
   "cell_type": "code",
   "execution_count": 4,
   "metadata": {},
   "outputs": [
    {
     "ename": "NameError",
     "evalue": "name 'data' is not defined",
     "output_type": "error",
     "traceback": [
      "\u001b[0;31m---------------------------------------------------------------------------\u001b[0m",
      "\u001b[0;31mNameError\u001b[0m                                 Traceback (most recent call last)",
      "Cell \u001b[0;32mIn[4], line 6\u001b[0m\n\u001b[1;32m      3\u001b[0m features_to_standardize \u001b[38;5;241m=\u001b[39m [\u001b[38;5;124m'\u001b[39m\u001b[38;5;124mloudness\u001b[39m\u001b[38;5;124m'\u001b[39m, \u001b[38;5;124m'\u001b[39m\u001b[38;5;124mtempo\u001b[39m\u001b[38;5;124m'\u001b[39m]\n\u001b[1;32m      5\u001b[0m \u001b[38;5;66;03m# Prepare features and labels\u001b[39;00m\n\u001b[0;32m----> 6\u001b[0m X \u001b[38;5;241m=\u001b[39m \u001b[43mdata\u001b[49m[[\u001b[38;5;124m'\u001b[39m\u001b[38;5;124mdanceability\u001b[39m\u001b[38;5;124m'\u001b[39m, \u001b[38;5;124m'\u001b[39m\u001b[38;5;124menergy\u001b[39m\u001b[38;5;124m'\u001b[39m, \u001b[38;5;124m'\u001b[39m\u001b[38;5;124mloudness\u001b[39m\u001b[38;5;124m'\u001b[39m, \u001b[38;5;124m'\u001b[39m\u001b[38;5;124mspeechiness\u001b[39m\u001b[38;5;124m'\u001b[39m,\n\u001b[1;32m      7\u001b[0m           \u001b[38;5;124m'\u001b[39m\u001b[38;5;124macousticness\u001b[39m\u001b[38;5;124m'\u001b[39m, \u001b[38;5;124m'\u001b[39m\u001b[38;5;124minstrumentalness\u001b[39m\u001b[38;5;124m'\u001b[39m, \u001b[38;5;124m'\u001b[39m\u001b[38;5;124mliveness\u001b[39m\u001b[38;5;124m'\u001b[39m, \u001b[38;5;124m'\u001b[39m\u001b[38;5;124mvalence\u001b[39m\u001b[38;5;124m'\u001b[39m, \u001b[38;5;124m'\u001b[39m\u001b[38;5;124mtempo\u001b[39m\u001b[38;5;124m'\u001b[39m]]\n\u001b[1;32m      8\u001b[0m y \u001b[38;5;241m=\u001b[39m data[\u001b[38;5;124m'\u001b[39m\u001b[38;5;124mplaylist_id\u001b[39m\u001b[38;5;124m'\u001b[39m]\n\u001b[1;32m     10\u001b[0m \u001b[38;5;66;03m# Apply MinMaxScaler for normalization\u001b[39;00m\n",
      "\u001b[0;31mNameError\u001b[0m: name 'data' is not defined"
     ]
    }
   ],
   "source": [
    "# Separate features for normalization and standardization\n",
    "features_to_normalize = ['danceability', 'energy', 'speechiness', 'acousticness', 'instrumentalness', 'liveness', 'valence']\n",
    "features_to_standardize = ['loudness', 'tempo']\n",
    "\n",
    "# Prepare features and labels\n",
    "X = df[['danceability', 'energy', 'loudness', 'speechiness',\n",
    "          'acousticness', 'instrumentalness', 'liveness', 'valence', 'tempo']]\n",
    "y = df['playlist_id']\n",
    "\n",
    "# Apply MinMaxScaler for normalization\n",
    "scaler_norm = MinMaxScaler()\n",
    "X[features_to_normalize] = scaler_norm.fit_transform(X[features_to_normalize])\n",
    "\n",
    "# Apply StandardScaler for standardization\n",
    "scaler_std = StandardScaler()\n",
    "X[features_to_standardize] = scaler_std.fit_transform(X[features_to_standardize])\n",
    "\n",
    "# Split the data into training and test sets\n",
    "X_train, X_test, y_train, y_test = train_test_split(X, y, test_size=0.2, random_state=42)\n",
    "\n",
    "# Output the shapes of the training and test sets\n",
    "print(X_train.shape, X_test.shape, y_train.shape, y_test.shape)\n"
   ]
  },
  {
   "cell_type": "code",
   "execution_count": 6,
   "metadata": {},
   "outputs": [],
   "source": [
    "scaler = StandardScaler()\n",
    "X_train_scaled = scaler.fit_transform(X_train)\n",
    "X_test_scaled = scaler.transform(X_test)"
   ]
  },
  {
   "cell_type": "code",
   "execution_count": null,
   "metadata": {},
   "outputs": [],
   "source": [
    "# Initialize the model\n",
    "clf = RandomForestClassifier(n_estimators=50, random_state=42)\n",
    "\n",
    "# Train the model\n",
    "clf.fit(X_train, y_train)"
   ]
  },
  {
   "cell_type": "code",
   "execution_count": null,
   "metadata": {},
   "outputs": [],
   "source": []
  }
 ],
 "metadata": {
  "kernelspec": {
   "display_name": "Python 3 ",
   "language": "python",
   "name": "python3"
  },
  "language_info": {
   "codemirror_mode": {
    "name": "ipython",
    "version": 3
   },
   "file_extension": ".py",
   "mimetype": "text/x-python",
   "name": "python",
   "nbconvert_exporter": "python",
   "pygments_lexer": "ipython3",
   "version": "3.10.14"
  }
 },
 "nbformat": 4,
 "nbformat_minor": 4
}
